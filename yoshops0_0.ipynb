{
  "nbformat": 4,
  "nbformat_minor": 0,
  "metadata": {
    "colab": {
      "name": "yoshops0.0.ipynb",
      "provenance": [],
      "authorship_tag": "ABX9TyPxunueJrzCPHjllTKXguGn",
      "include_colab_link": true
    },
    "kernelspec": {
      "name": "python3",
      "display_name": "Python 3"
    },
    "language_info": {
      "name": "python"
    }
  },
  "cells": [
    {
      "cell_type": "markdown",
      "metadata": {
        "id": "view-in-github",
        "colab_type": "text"
      },
      "source": [
        "<a href=\"https://colab.research.google.com/github/tazalki/Data-Science-Projects-using-Python/blob/main/yoshops0_0.ipynb\" target=\"_parent\"><img src=\"https://colab.research.google.com/assets/colab-badge.svg\" alt=\"Open In Colab\"/></a>"
      ]
    },
    {
      "cell_type": "code",
      "execution_count": 1,
      "metadata": {
        "id": "FYTW2uVXbf7Z"
      },
      "outputs": [],
      "source": [
        "import urllib\n",
        "from bs4 import BeautifulSoup"
      ]
    },
    {
      "cell_type": "code",
      "source": [
        "url = \"https://yoshops.com/products?keywords=river+prawn\"\n",
        "html = urllib.request.urlopen(url)"
      ],
      "metadata": {
        "id": "6798_HQZboeh"
      },
      "execution_count": 2,
      "outputs": []
    },
    {
      "cell_type": "code",
      "source": [
        "soup = BeautifulSoup(html,'html.parser')"
      ],
      "metadata": {
        "id": "gPovkPqgbsBW"
      },
      "execution_count": 3,
      "outputs": []
    },
    {
      "cell_type": "code",
      "source": [
        "span_tag = soup.find('span',  {\"class\":\"product-title\"})\n",
        "len(span_tag)"
      ],
      "metadata": {
        "colab": {
          "base_uri": "https://localhost:8080/"
        },
        "id": "FcqKNgw1buud",
        "outputId": "56a62086-a816-4f39-cf1b-512af692332a"
      },
      "execution_count": 4,
      "outputs": [
        {
          "output_type": "execute_result",
          "data": {
            "text/plain": [
              "1"
            ]
          },
          "metadata": {},
          "execution_count": 4
        }
      ]
    },
    {
      "cell_type": "code",
      "source": [
        "span_tag1 = soup.find_all(\"span\", {\"class\" : \"product-title\"})\n",
        "len(span_tag1)"
      ],
      "metadata": {
        "colab": {
          "base_uri": "https://localhost:8080/"
        },
        "id": "szjVWnErbx5s",
        "outputId": "0afa2776-0b97-427a-fa4e-af812171d64f"
      },
      "execution_count": 5,
      "outputs": [
        {
          "output_type": "execute_result",
          "data": {
            "text/plain": [
              "6"
            ]
          },
          "metadata": {},
          "execution_count": 5
        }
      ]
    },
    {
      "cell_type": "code",
      "source": [
        "span_tag"
      ],
      "metadata": {
        "colab": {
          "base_uri": "https://localhost:8080/"
        },
        "id": "1Yrr9MLbb0wc",
        "outputId": "e6d39736-afc8-4083-8a74-732b29e864f3"
      },
      "execution_count": 6,
      "outputs": [
        {
          "output_type": "execute_result",
          "data": {
            "text/plain": [
              "<span class=\"product-title\" href=\"/products/river-prawn-small-4cm-250gm-berhampur\">River Prawn Small- 4cm 250gm(Berhampur)</span>"
            ]
          },
          "metadata": {},
          "execution_count": 6
        }
      ]
    },
    {
      "cell_type": "code",
      "source": [
        "span_tag1"
      ],
      "metadata": {
        "colab": {
          "base_uri": "https://localhost:8080/"
        },
        "id": "rByV8J8nb3nc",
        "outputId": "6030ed73-9e51-4743-90a8-7791f278a7e5"
      },
      "execution_count": 7,
      "outputs": [
        {
          "output_type": "execute_result",
          "data": {
            "text/plain": [
              "[<span class=\"product-title\" href=\"/products/river-prawn-small-4cm-250gm-berhampur\">River Prawn Small- 4cm 250gm(Berhampur)</span>,\n",
              " <span class=\"product-title\" href=\"/products/river-prawn-raw-big-12cm-250gm-berhampur\">River Prawn Raw Big-12cm 250gm(Berhampur)</span>,\n",
              " <span class=\"product-title\" href=\"/products/river-prawn-raw-middium-6cm-250gm-berhampur\">River Prawn Raw Middium- 6cm 250gm(Berhampur)</span>,\n",
              " <span class=\"product-title\" href=\"/products/river-prawn-raw-big-12cm-500gm-berhampur\">River Prawn Raw Big-12cm 500gm(Berhampur)</span>,\n",
              " <span class=\"product-title\" href=\"/products/river-prawn-raw-middium-6cm-500gm-berhampur\">River Prawn Raw Middium- 6cm 500gm(Berhampur)</span>,\n",
              " <span class=\"product-title\" href=\"/products/river-prawn-small-4cm-500gm-berhampur\">River Prawn Small- 4cm 500gm(Berhampur)</span>]"
            ]
          },
          "metadata": {},
          "execution_count": 7
        }
      ]
    },
    {
      "cell_type": "code",
      "source": [
        "span_tag.text"
      ],
      "metadata": {
        "colab": {
          "base_uri": "https://localhost:8080/",
          "height": 35
        },
        "id": "rnKcT7XZb8DO",
        "outputId": "ab5e6c9d-53b5-4554-aa7b-9a9f1a3c9044"
      },
      "execution_count": 8,
      "outputs": [
        {
          "output_type": "execute_result",
          "data": {
            "application/vnd.google.colaboratory.intrinsic+json": {
              "type": "string"
            },
            "text/plain": [
              "'River Prawn Small- 4cm 250gm(Berhampur)'"
            ]
          },
          "metadata": {},
          "execution_count": 8
        }
      ]
    },
    {
      "cell_type": "code",
      "source": [
        "print(span_tag1[0].text)\n",
        "print(span_tag1[1].text)\n",
        "print(span_tag1[2].text)\n",
        "print(span_tag1[3].text)\n",
        "print(span_tag1[4].text)\n",
        "print(span_tag1[5].text)"
      ],
      "metadata": {
        "colab": {
          "base_uri": "https://localhost:8080/"
        },
        "id": "fip8-7qhcANO",
        "outputId": "a7b1f6c3-5271-4436-9bc2-2801c072bd4d"
      },
      "execution_count": 9,
      "outputs": [
        {
          "output_type": "stream",
          "name": "stdout",
          "text": [
            "River Prawn Small- 4cm 250gm(Berhampur)\n",
            "River Prawn Raw Big-12cm 250gm(Berhampur)\n",
            "River Prawn Raw Middium- 6cm 250gm(Berhampur)\n",
            "River Prawn Raw Big-12cm 500gm(Berhampur)\n",
            "River Prawn Raw Middium- 6cm 500gm(Berhampur)\n",
            "River Prawn Small- 4cm 500gm(Berhampur)\n"
          ]
        }
      ]
    },
    {
      "cell_type": "code",
      "source": [
        "product_names = []\n",
        "for i in span_tag1:\n",
        "    product_names.append(i.text)"
      ],
      "metadata": {
        "id": "_swZM9VscGZN"
      },
      "execution_count": 10,
      "outputs": []
    },
    {
      "cell_type": "code",
      "source": [
        "product_names"
      ],
      "metadata": {
        "colab": {
          "base_uri": "https://localhost:8080/"
        },
        "id": "8hh6FIUKcJ4-",
        "outputId": "14b5e786-3ab0-434c-dcb6-d667b4d35137"
      },
      "execution_count": 11,
      "outputs": [
        {
          "output_type": "execute_result",
          "data": {
            "text/plain": [
              "['River Prawn Small- 4cm 250gm(Berhampur)',\n",
              " 'River Prawn Raw Big-12cm 250gm(Berhampur)',\n",
              " 'River Prawn Raw Middium- 6cm 250gm(Berhampur)',\n",
              " 'River Prawn Raw Big-12cm 500gm(Berhampur)',\n",
              " 'River Prawn Raw Middium- 6cm 500gm(Berhampur)',\n",
              " 'River Prawn Small- 4cm 500gm(Berhampur)']"
            ]
          },
          "metadata": {},
          "execution_count": 11
        }
      ]
    },
    {
      "cell_type": "code",
      "source": [
        "div_tags = soup.findAll('div',{'class':\"product-price\"})"
      ],
      "metadata": {
        "id": "y-aPppD_cMN1"
      },
      "execution_count": 12,
      "outputs": []
    },
    {
      "cell_type": "code",
      "source": [
        "original_product_prices=[]\n",
        "for i in div_tags:\n",
        "    product_price=i.findAll('span')[0].text\n",
        "    original_product_prices.append(product_price)"
      ],
      "metadata": {
        "id": "g5V_SN03cPLC"
      },
      "execution_count": 13,
      "outputs": []
    },
    {
      "cell_type": "code",
      "source": [
        "original_product_prices"
      ],
      "metadata": {
        "colab": {
          "base_uri": "https://localhost:8080/"
        },
        "id": "1TDJNEYqcTyD",
        "outputId": "6ff2f430-56f7-4967-814d-b584621742b6"
      },
      "execution_count": 14,
      "outputs": [
        {
          "output_type": "execute_result",
          "data": {
            "text/plain": [
              "['₹90.00', '₹130.00', '₹100.00', '₹260.00', '₹200.00', '₹150.00']"
            ]
          },
          "metadata": {},
          "execution_count": 14
        }
      ]
    },
    {
      "cell_type": "code",
      "source": [
        "relative_urls = soup.findAll(\"a\", {'class':\"product-link\"}, href = True)"
      ],
      "metadata": {
        "id": "OFJ9quowcVCQ"
      },
      "execution_count": 15,
      "outputs": []
    },
    {
      "cell_type": "code",
      "source": [
        "relative_urls[0]['href']"
      ],
      "metadata": {
        "colab": {
          "base_uri": "https://localhost:8080/",
          "height": 35
        },
        "id": "z9pguzlfcZqQ",
        "outputId": "a84e2841-fafc-4256-9c07-5fa03921db2e"
      },
      "execution_count": 16,
      "outputs": [
        {
          "output_type": "execute_result",
          "data": {
            "application/vnd.google.colaboratory.intrinsic+json": {
              "type": "string"
            },
            "text/plain": [
              "'/products/river-prawn-small-4cm-250gm-berhampur'"
            ]
          },
          "metadata": {},
          "execution_count": 16
        }
      ]
    },
    {
      "cell_type": "code",
      "source": [
        "base_url='https://yoshops.com'"
      ],
      "metadata": {
        "id": "WFPBykNZccSh"
      },
      "execution_count": 17,
      "outputs": []
    },
    {
      "cell_type": "code",
      "source": [
        "base_url"
      ],
      "metadata": {
        "colab": {
          "base_uri": "https://localhost:8080/",
          "height": 35
        },
        "id": "J6dT8oRecfL_",
        "outputId": "0768fa0b-1768-4218-963a-853a3e7cc9f3"
      },
      "execution_count": 18,
      "outputs": [
        {
          "output_type": "execute_result",
          "data": {
            "application/vnd.google.colaboratory.intrinsic+json": {
              "type": "string"
            },
            "text/plain": [
              "'https://yoshops.com'"
            ]
          },
          "metadata": {},
          "execution_count": 18
        }
      ]
    },
    {
      "cell_type": "code",
      "source": [
        "base_url + relative_urls[0]['href']"
      ],
      "metadata": {
        "colab": {
          "base_uri": "https://localhost:8080/",
          "height": 35
        },
        "id": "SzUB-v1bchXD",
        "outputId": "20186ffc-bfd8-4444-f69d-62a72c916676"
      },
      "execution_count": 19,
      "outputs": [
        {
          "output_type": "execute_result",
          "data": {
            "application/vnd.google.colaboratory.intrinsic+json": {
              "type": "string"
            },
            "text/plain": [
              "'https://yoshops.com/products/river-prawn-small-4cm-250gm-berhampur'"
            ]
          },
          "metadata": {},
          "execution_count": 19
        }
      ]
    },
    {
      "cell_type": "code",
      "source": [
        "product_urls=[]\n",
        "for i in relative_urls:\n",
        "    product_url=base_url+relative_urls[0]['href']\n",
        "    product_urls.append(product_url)"
      ],
      "metadata": {
        "id": "hfhtBRX5ckMF"
      },
      "execution_count": 20,
      "outputs": []
    },
    {
      "cell_type": "code",
      "source": [
        "product_urls"
      ],
      "metadata": {
        "colab": {
          "base_uri": "https://localhost:8080/"
        },
        "id": "3HDucBVJcm0n",
        "outputId": "4e3fd945-7980-4cad-a369-f1427f8e8e4f"
      },
      "execution_count": 21,
      "outputs": [
        {
          "output_type": "execute_result",
          "data": {
            "text/plain": [
              "['https://yoshops.com/products/river-prawn-small-4cm-250gm-berhampur',\n",
              " 'https://yoshops.com/products/river-prawn-small-4cm-250gm-berhampur',\n",
              " 'https://yoshops.com/products/river-prawn-small-4cm-250gm-berhampur',\n",
              " 'https://yoshops.com/products/river-prawn-small-4cm-250gm-berhampur',\n",
              " 'https://yoshops.com/products/river-prawn-small-4cm-250gm-berhampur',\n",
              " 'https://yoshops.com/products/river-prawn-small-4cm-250gm-berhampur']"
            ]
          },
          "metadata": {},
          "execution_count": 21
        }
      ]
    },
    {
      "cell_type": "code",
      "source": [
        ""
      ],
      "metadata": {
        "id": "WS3ya_6lcpOP"
      },
      "execution_count": null,
      "outputs": []
    }
  ]
}